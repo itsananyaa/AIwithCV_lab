{
 "cells": [
  {
   "cell_type": "markdown",
   "id": "bd051461",
   "metadata": {},
   "source": [
    "# Implement the image processing basics: converting image to RGB to BGR and to Grayscale, create a white/Black color image, how to draw shapes on Image"
   ]
  },
  {
   "cell_type": "code",
   "execution_count": 2,
   "id": "1cc706c7",
   "metadata": {},
   "outputs": [
    {
     "ename": "ModuleNotFoundError",
     "evalue": "No module named 'cv2'",
     "output_type": "error",
     "traceback": [
      "\u001b[1;31m---------------------------------------------------------------------------\u001b[0m",
      "\u001b[1;31mModuleNotFoundError\u001b[0m                       Traceback (most recent call last)",
      "Cell \u001b[1;32mIn[2], line 1\u001b[0m\n\u001b[1;32m----> 1\u001b[0m \u001b[38;5;28;01mimport\u001b[39;00m \u001b[38;5;21;01mcv2\u001b[39;00m\n\u001b[0;32m      2\u001b[0m \u001b[38;5;28;01mimport\u001b[39;00m \u001b[38;5;21;01mnumpy\u001b[39;00m \u001b[38;5;28;01mas\u001b[39;00m \u001b[38;5;21;01mnp\u001b[39;00m\n",
      "\u001b[1;31mModuleNotFoundError\u001b[0m: No module named 'cv2'"
     ]
    }
   ],
   "source": [
    "import cv2\n",
    "import numpy as np"
   ]
  },
  {
   "cell_type": "code",
   "execution_count": 4,
   "id": "96fc2cf4",
   "metadata": {},
   "outputs": [],
   "source": [
    "def convert_to_grayscale(image_path):\n",
    "    # load the image\n",
    "    image = cv2.imread(image_path)\n",
    "    \n",
    "    # Convert the image to grayscale\n",
    "    grayscale_image = cv2.cvtColor(image, cv2.COLOR_BGR2GRAY)\n",
    "    \n",
    "    # Display the original and grayscale\n",
    "    cv2.imshow(\"Original Image\", image)\n",
    "    cv2.imshow(\"Grayscale Image\", grayscale_image)\n",
    "    cv2.waitKey(0)\n",
    "    cv2.destroyAllWindows()"
   ]
  },
  {
   "cell_type": "code",
   "execution_count": 3,
   "id": "6bf4cf10",
   "metadata": {},
   "outputs": [],
   "source": [
    "def convert_to_bgr(image_path, output_path):\n",
    "    # load the image\n",
    "    image = cv2.imread(image_path)\n",
    "    \n",
    "    # Convert the image to BGR color space\n",
    "    bgr_image = cv2.cvtColor(image, cv2.COLOR_RGB2BGR)\n",
    "    \n",
    "    # Display the original and BGR images\n",
    "    cv2.imshow(\"Original Image\", image)\n",
    "    cv2.imshow(\"BGR Image\", bgr_image)\n",
    "    cv2.waitkey(0)\n",
    "    cv2.destroyALLWindows()\n",
    "    \n",
    "    # Save the BGR image\n",
    "    cv2.imwrite(output_path, bgr_image)\n",
    "    print(\"BGR image saved as\", output_path)"
   ]
  },
  {
   "cell_type": "markdown",
   "id": "58996c64",
   "metadata": {},
   "source": [
    "# In this code, the convert_bgr_to_rgb function takes an image in BGR color space(image_bgr) and converts it to RGB color space using cv2.cvtColor with the cv2.COLOR_BGR2RGB flag.it then display both the original BGR image and the converted RGB image."
   ]
  },
  {
   "cell_type": "code",
   "execution_count": 4,
   "id": "16e961e4",
   "metadata": {},
   "outputs": [],
   "source": [
    "def convert_bgr_to_rgb(output_path):\n",
    "    # load the image\n",
    "    image_bgr = cv2.imread(output_path)\n",
    "    \n",
    "    # convert the image from BGR to RGB color space\n",
    "    image_rgb = cv2.cvtColor(image_bgr, cv2.COLOR_BGR2RGB)\n",
    "    \n",
    "    # Display the original BGR image and the converted RGB image\n",
    "    \n",
    "    cv2.imshow(\"RGB Image\", image_bgr)\n",
    "    cv2.imshow(\"RGB Image\", image_bgr)\n",
    "    cv2.waitkey(0)\n",
    "    cv2.destroyAllWindows()"
   ]
  },
  {
   "cell_type": "code",
   "execution_count": 5,
   "id": "14107c4c",
   "metadata": {},
   "outputs": [],
   "source": [
    "# Main Program\n",
    "\n",
    "image_path=\"download.jpeg\"\n",
    "output_path=\"bgr_image22.jpg\""
   ]
  },
  {
   "cell_type": "code",
   "execution_count": 6,
   "id": "aa4e801b",
   "metadata": {},
   "outputs": [
    {
     "ename": "NameError",
     "evalue": "name 'convert_to_grayscale' is not defined",
     "output_type": "error",
     "traceback": [
      "\u001b[1;31m---------------------------------------------------------------------------\u001b[0m",
      "\u001b[1;31mNameError\u001b[0m                                 Traceback (most recent call last)",
      "Cell \u001b[1;32mIn[6], line 2\u001b[0m\n\u001b[0;32m      1\u001b[0m \u001b[38;5;66;03m# convert image to grayscale\u001b[39;00m\n\u001b[1;32m----> 2\u001b[0m convert_to_grayscale(image_path)\n",
      "\u001b[1;31mNameError\u001b[0m: name 'convert_to_grayscale' is not defined"
     ]
    }
   ],
   "source": [
    "# convert image to grayscale\n",
    "convert_to_grayscale(image_path)"
   ]
  },
  {
   "cell_type": "code",
   "execution_count": 14,
   "id": "91ae1ace",
   "metadata": {},
   "outputs": [
    {
     "ename": "AttributeError",
     "evalue": "module 'cv2' has no attribute 'waitkey'",
     "output_type": "error",
     "traceback": [
      "\u001b[1;31m---------------------------------------------------------------------------\u001b[0m",
      "\u001b[1;31mAttributeError\u001b[0m                            Traceback (most recent call last)",
      "Cell \u001b[1;32mIn[14], line 2\u001b[0m\n\u001b[0;32m      1\u001b[0m \u001b[38;5;66;03m# convert image to BGR and save it\u001b[39;00m\n\u001b[1;32m----> 2\u001b[0m convert_to_bgr(image_path, output_path)\n",
      "Cell \u001b[1;32mIn[10], line 11\u001b[0m, in \u001b[0;36mconvert_to_bgr\u001b[1;34m(image_path, output_path)\u001b[0m\n\u001b[0;32m      9\u001b[0m cv2\u001b[38;5;241m.\u001b[39mimshow(\u001b[38;5;124m\"\u001b[39m\u001b[38;5;124mOriginal Image\u001b[39m\u001b[38;5;124m\"\u001b[39m, image)\n\u001b[0;32m     10\u001b[0m cv2\u001b[38;5;241m.\u001b[39mimshow(\u001b[38;5;124m\"\u001b[39m\u001b[38;5;124mBGR Image\u001b[39m\u001b[38;5;124m\"\u001b[39m, bgr_image)\n\u001b[1;32m---> 11\u001b[0m cv2\u001b[38;5;241m.\u001b[39mwaitkey(\u001b[38;5;241m0\u001b[39m)\n\u001b[0;32m     12\u001b[0m cv2\u001b[38;5;241m.\u001b[39mdestroyALLWindows()\n\u001b[0;32m     14\u001b[0m \u001b[38;5;66;03m# Save the BGR image\u001b[39;00m\n",
      "\u001b[1;31mAttributeError\u001b[0m: module 'cv2' has no attribute 'waitkey'"
     ]
    }
   ],
   "source": [
    "# convert image to BGR and save it\n",
    "convert_to_bgr(image_path, output_path)"
   ]
  },
  {
   "cell_type": "code",
   "execution_count": null,
   "id": "929ceec7",
   "metadata": {},
   "outputs": [],
   "source": [
    "# convert BGR image to RCB\n",
    "convert_bgr_to_rgb(output_path)"
   ]
  },
  {
   "cell_type": "code",
   "execution_count": 1,
   "id": "7e0f707f",
   "metadata": {},
   "outputs": [],
   "source": [
    "def create_white_image(width, height):\n",
    "    # create a white color image\n",
    "    white_image = np.ones((height, width, 3), dtype=np.unit8)\n",
    "    \n",
    "    # Display the black image\n",
    "    cv2.imshow(\"White Image\", white_image)\n",
    "    cv2.waitKey(0)\n",
    "    cv2.destroyedAllWindows()"
   ]
  },
  {
   "cell_type": "code",
   "execution_count": 2,
   "id": "f0fc68c5",
   "metadata": {},
   "outputs": [],
   "source": [
    "def create_black_image(width, height):\n",
    "    # create a black color image\n",
    "    black_image = np.zeros((height, width, 3), dtype=np.uint8)\n",
    "    \n",
    "    # Display the black image\n",
    "    cv2.imshow(\"Black Image\", black_image)\n",
    "    cv2.waitKey(0)\n",
    "    cv2.destroyedAllWindows()"
   ]
  },
  {
   "cell_type": "code",
   "execution_count": null,
   "id": "9450a0c8",
   "metadata": {},
   "outputs": [],
   "source": []
  }
 ],
 "metadata": {
  "kernelspec": {
   "display_name": "Python 3 (ipykernel)",
   "language": "python",
   "name": "python3"
  },
  "language_info": {
   "codemirror_mode": {
    "name": "ipython",
    "version": 3
   },
   "file_extension": ".py",
   "mimetype": "text/x-python",
   "name": "python",
   "nbconvert_exporter": "python",
   "pygments_lexer": "ipython3",
   "version": "3.11.7"
  }
 },
 "nbformat": 4,
 "nbformat_minor": 5
}
